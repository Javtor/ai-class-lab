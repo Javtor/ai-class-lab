{
 "cells": [
  {
   "cell_type": "markdown",
   "metadata": {
    "id": "SuKq-18Je7lI"
   },
   "source": [
    "# Knapsack\n",
    "\n",
    "- Integrante 1: Alejandro Barrera\n",
    "- Integrante 2: Steven Bernal\n",
    "- Integrante 3: Camila Lenis\n",
    "- Integrante 4: Javier Torres\n",
    "\n",
    "The knapsack problem is a popular computer science problem. Part of the reason for it's popularity is it's combination of simple rules but difficult solution, as it has no solution in polynomial time. This problem is therefore an NP-complete problem, which means no correct solution exists that is also fast (polynomial time).\n",
    "\n",
    "The game consists of the following:\n",
    "- A knapsack (backpack) with a maximum capacity W\n",
    "- N distinct items with a wegiht (Wi) and value (Vi)\n",
    "\n",
    "Which of these items can you fit in the bag that maximises value (sum of items Vi) but does not exceed the maximum capacity W?\n",
    "\n",
    "![img](https://upload.wikimedia.org/wikipedia/commons/f/fd/Knapsack.svg)\n",
    "\n",
    "As an example, say you have items (Vi, Wi) and a knapsack with capacity of 15:\n",
    "1. (4 \\$, 12 kg)\n",
    "2. (2 \\$, 2 kg)\n",
    "3. (2 \\$, 1 kg)\n",
    "4. (1 \\$, 1 kg)\n",
    "5. (10 \\$, 4 kg)\n",
    "\n",
    "Which combination of these achieves the best result? In this case, the answer is items 2-5, which add up to 15$ in value and 8kg in weight.\n",
    "\n",
    "There is another variation of this problem, what if we could pick any amount of each item? In this case, we would add three of 5 and three of 3, which add up to 36$ with weight 15kg.\n",
    "\n",
    "Your task is to write a genetic algorithm that computes the solution to the knapsack problem."
   ]
  },
  {
   "cell_type": "code",
   "execution_count": 1,
   "metadata": {
    "id": "C9zy7neFk3QX"
   },
   "outputs": [],
   "source": [
    "import random\n",
    "\n",
    "class Item:\n",
    "    def __init__(self, value, weight, quantity):\n",
    "        self.weight = weight\n",
    "        self.value = value\n",
    "        self.quantity = quantity\n",
    "    \n",
    "    def __repr__(self):\n",
    "        return 'Item: '+str(self.weight)+' - '+str(self.value)+' - '+str(self.quantity)\n",
    "\n",
    "MAXIMUM_WEIGHT = 15\n",
    "ITEMS = [Item(4, 12, 0), Item(2, 2, 0), Item(2, 1, 0), Item(1, 1, 0), Item(10, 4, 0)]"
   ]
  },
  {
   "cell_type": "code",
   "execution_count": 2,
   "metadata": {
    "colab": {
     "base_uri": "https://localhost:8080/",
     "height": 35
    },
    "id": "aG_kdLuqhEjK",
    "outputId": "5c9f9305-2629-4906-e020-36d7180b834b"
   },
   "outputs": [
    {
     "data": {
      "text/plain": [
       "-17"
      ]
     },
     "execution_count": 2,
     "metadata": {},
     "output_type": "execute_result"
    }
   ],
   "source": [
    "# takes a list items (one individual) and evaluates it: [Item(4, 12, 0), Item(2, 2, 0), Item(2, 1, 0), Item(1, 1, 0), Item(10, 4, 0)] -> X (depends on your fitness function)\n",
    "def evaluate(items):\n",
    "    total_value = 0\n",
    "    total_weight = 0\n",
    "    for it in items:\n",
    "        total_value += it.quantity * it.value\n",
    "        total_weight += it.quantity * it.weight\n",
    "    if total_weight > MAXIMUM_WEIGHT:\n",
    "        total_value = -total_weight\n",
    "        \n",
    "    return total_value # TODO: complete the fitness function\n",
    "\n",
    "evaluate([Item(4, 12, 0), Item(2, 2, 1), Item(2, 1, 3), Item(1, 1, 0), Item(10, 4, 3)])"
   ]
  },
  {
   "cell_type": "code",
   "execution_count": 3,
   "metadata": {
    "colab": {
     "base_uri": "https://localhost:8080/",
     "height": 69
    },
    "id": "9i08_IHoiZhr",
    "outputId": "44f8630f-22b0-4263-9780-9d550043f0e2"
   },
   "outputs": [
    {
     "data": {
      "text/plain": [
       "[([Item: 12 - 4 - 0, Item: 2 - 2 - 0], 0),\n",
       " ([Item: 12 - 4 - 0, Item: 2 - 2 - 0], 0),\n",
       " ([Item: 12 - 4 - 0, Item: 2 - 2 - 0], 0)]"
      ]
     },
     "execution_count": 3,
     "metadata": {},
     "output_type": "execute_result"
    }
   ],
   "source": [
    "# takes a generation and evaluates them all, returning individuals in tuples with score: [\n",
    "#  [Item(4, 12, 0), Item(2, 2, 0)],\n",
    "#  [Item(4, 12, 0), Item(2, 2, 0)],\n",
    "#  [Item(4, 12, 0), Item(2, 2, 0)]\n",
    "#]\n",
    "# ->\n",
    "#[\n",
    "#  ([Item(4, 12, 0), Item(2, 2, 0)], X),\n",
    "#  ([Item(4, 12, 1), Item(2, 2, 0)], X),\n",
    "#  ([Item(4, 12, 0), Item(2, 2, 1)], X)\n",
    "#]\n",
    "def evaluate_many(generation):\n",
    "  return [ (individual, evaluate(individual)) for individual in generation ]\n",
    "\n",
    "evaluate_many([[Item(4, 12, 0), Item(2, 2, 0)], [Item(4, 12, 0), Item(2, 2, 0)], [Item(4, 12, 0), Item(2, 2, 0)]])"
   ]
  },
  {
   "cell_type": "code",
   "execution_count": 4,
   "metadata": {
    "colab": {
     "base_uri": "https://localhost:8080/",
     "height": 52
    },
    "id": "nwUVJuomi2Ze",
    "outputId": "ea2168e9-964b-4b1e-fabf-07c1bfb31904"
   },
   "outputs": [
    {
     "data": {
      "text/plain": [
       "[([Item: 12 - 4 - 1, Item: 2 - 2 - 0], 3),\n",
       " ([Item: 12 - 4 - 0, Item: 2 - 2 - 1], 2)]"
      ]
     },
     "execution_count": 4,
     "metadata": {},
     "output_type": "execute_result"
    }
   ],
   "source": [
    "# Takes a list of individuals and their scores and only returns the top_n ones [\n",
    "#  ([Item(4, 12, 0), Item(2, 2, 0)], 1),\n",
    "#  ([Item(4, 12, 1), Item(2, 2, 0)], 3),\n",
    "#  ([Item(4, 12, 0), Item(2, 2, 1)], 2)\n",
    "#]\n",
    "# ->\n",
    "#[\n",
    "# ([Item(4, 12, 1), Item(2, 2, 0)], 3),\n",
    "# ([Item(4, 12, 0), Item(2, 2, 1)], 2)\n",
    "#]\n",
    "def selection(evaluated_generation, top_n):\n",
    "  evaluated_generation.sort(key = lambda e: e[1], reverse = True)\n",
    "\n",
    "  return evaluated_generation[:top_n]\n",
    "\n",
    "selection([\n",
    "  ([Item(4, 12, 0), Item(2, 2, 0)], 1),\n",
    "  ([Item(4, 12, 1), Item(2, 2, 0)], 3),\n",
    "  ([Item(4, 12, 0), Item(2, 2, 1)], 2)\n",
    "], 2)"
   ]
  },
  {
   "cell_type": "code",
   "execution_count": 10,
   "metadata": {
    "colab": {
     "base_uri": "https://localhost:8080/",
     "height": 35
    },
    "id": "T9cYRUe0j3TY",
    "outputId": "f7ef7abd-8d27-49c1-e9e4-ad96eb2d2235"
   },
   "outputs": [
    {
     "data": {
      "text/plain": [
       "[Item: 12 - 4 - 2, Item: 2 - 2 - 2]"
      ]
     },
     "execution_count": 10,
     "metadata": {},
     "output_type": "execute_result"
    }
   ],
   "source": [
    "# Takes an individual and mutates it n_genes times: [Item(4, 12, 0), Item(2, 2, 0)] -> [Item(4, 12, 3), Item(2, 2, 1)]\n",
    "def mutate(individual, n_genes):\n",
    "    new_individual = []\n",
    "    for it in individual:\n",
    "        variacion = random.randint(-n_genes,n_genes)\n",
    "        new_individual.append(Item(it.value,it.weight,max(0,it.quantity+variacion)))\n",
    "    return new_individual\n",
    "\n",
    "mutate([Item(4, 12, 0), Item(2, 2, 0)], 2)"
   ]
  },
  {
   "cell_type": "code",
   "execution_count": 41,
   "metadata": {
    "colab": {
     "base_uri": "https://localhost:8080/",
     "height": 191
    },
    "id": "Kde9LkmYmR0J",
    "outputId": "2de2f48a-e36a-475a-cb84-e7f922dc9de5"
   },
   "outputs": [
    {
     "data": {
      "text/plain": [
       "[[Item: 12 - 4 - 0, Item: 2 - 2 - 1],\n",
       " [Item: 12 - 4 - 1, Item: 2 - 2 - 0],\n",
       " [Item: 12 - 4 - 0, Item: 2 - 2 - 0],\n",
       " [Item: 12 - 4 - 0, Item: 2 - 2 - 0],\n",
       " [Item: 12 - 4 - 0, Item: 2 - 2 - 0],\n",
       " [Item: 12 - 4 - 0, Item: 2 - 2 - 0],\n",
       " [Item: 12 - 4 - 0, Item: 2 - 2 - 0],\n",
       " [Item: 12 - 4 - 0, Item: 2 - 2 - 1],\n",
       " [Item: 12 - 4 - 0, Item: 2 - 2 - 1],\n",
       " [Item: 12 - 4 - 0, Item: 2 - 2 - 0]]"
      ]
     },
     "execution_count": 41,
     "metadata": {},
     "output_type": "execute_result"
    }
   ],
   "source": [
    "# Takes a list of individuals and generates a generation_size list of new mutated individuals \n",
    "def mutate_many(best_individuals, generation_size, n_genes):\n",
    "  new_generation = []\n",
    "\n",
    "  for i in range(generation_size):\n",
    "    new_individual = mutate(random.choice(best_individuals), n_genes)\n",
    "    new_generation.append(new_individual)\n",
    "  \n",
    "  #new_generation = new_generation + best_individuals\n",
    "  #new_generation = selection(new_generation, generation_size)\n",
    "\n",
    "  return new_generation\n",
    "\n",
    "mutate_many([[Item(4, 12, 0), Item(2, 2, 0)], [Item(4, 12, 0), Item(2, 2, 0)]], 10, 1)"
   ]
  },
  {
   "cell_type": "code",
   "execution_count": null,
   "metadata": {
    "colab": {
     "base_uri": "https://localhost:8080/",
     "height": 1000
    },
    "id": "gY9ki8U28Fdz",
    "outputId": "4e01f3ba-97e9-474f-b773-0dc2e2fbabe4"
   },
   "outputs": [],
   "source": [
    "MAX_GENERATIONS = 1000\n",
    "TOP_N = 1\n",
    "MUTATED_CHROMOSOMES = 3\n",
    "GENERATION_SIZE = 20\n",
    "FITNESS_THRESHOLD = 100\n",
    "\n",
    "\n",
    "n_generation = 0\n",
    "converged = False\n",
    "\n",
    "generation = [ [Item(4, 12, 0), Item(2, 2, 0), Item(2, 1, 0), Item(1, 1, 0), Item(10, 4, 0)] for _ in range(GENERATION_SIZE)] # TODO: create initial generation\n",
    "\n",
    "while n_generation < MAX_GENERATIONS and not converged:\n",
    "  evaluated_generation = evaluate_many(generation)\n",
    "  evaluated_best = selection(evaluated_generation, TOP_N)\n",
    "  \n",
    "  best_individuals = [ individual for individual, evaluation in evaluated_best ]\n",
    "  best_individuals = best_individuals[:GENERATION_SIZE]\n",
    "\n",
    "  generation = generation + mutate_many(best_individuals, GENERATION_SIZE, MUTATED_CHROMOSOMES)\n",
    "  \n",
    "  best_in_generation = evaluated_best[0]\n",
    "  converged = best_in_generation[1] >= FITNESS_THRESHOLD\n",
    "  n_generation += 1\n",
    "\n",
    "  print(f\"{n_generation}: {best_in_generation}\")"
   ]
  },
  {
   "cell_type": "code",
   "execution_count": null,
   "metadata": {},
   "outputs": [],
   "source": []
  }
 ],
 "metadata": {
  "colab": {
   "collapsed_sections": [],
   "name": "knapsack_oct_20.ipynb",
   "provenance": []
  },
  "kernelspec": {
   "display_name": "Python 3",
   "language": "python",
   "name": "python3"
  },
  "language_info": {
   "codemirror_mode": {
    "name": "ipython",
    "version": 3
   },
   "file_extension": ".py",
   "mimetype": "text/x-python",
   "name": "python",
   "nbconvert_exporter": "python",
   "pygments_lexer": "ipython3",
   "version": "3.7.6"
  }
 },
 "nbformat": 4,
 "nbformat_minor": 1
}
