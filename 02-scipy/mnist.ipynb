{
 "cells": [
  {
   "cell_type": "markdown",
   "metadata": {
    "colab_type": "text",
    "id": "If0BZFgQ3LCm"
   },
   "source": [
    "# Excercise: MNIST Digits\n",
    "\n",
    "```\n",
    "Integrante 1: Alejandro Barrera\n",
    "Integrante 2: Camila Lenis\n",
    "Integrante 3: Javier Torres\n",
    "```\n",
    "\n",
    "[MNIST digits](http://yann.lecun.com/exdb/mnist/) is a dataset of written digits composed of 70000 black and white images. This dataset is a classic amongst people learning to apply machine learning models, specifically to pattern/image recognition. Of the 70K images, 60K are labeled examples and 10K are a validation set. These images are preprocessed so that they may be easily experimented with using machine learning.\n",
    "\n",
    "Lets load a downsized version of this dataset from the scikit-learn package."
   ]
  },
  {
   "cell_type": "code",
   "execution_count": 1,
   "metadata": {
    "colab": {},
    "colab_type": "code",
    "id": "Cgq_VCIv3LCn"
   },
   "outputs": [],
   "source": [
    "from sklearn.datasets import load_digits"
   ]
  },
  {
   "cell_type": "markdown",
   "metadata": {
    "colab_type": "text",
    "id": "oQZN6rAs3LCp"
   },
   "source": [
    "This imports a function that will be used to load the digits. This particular version has 1797 images and each one has been downscaled to 8x8, as opposed to the original size of 28x28."
   ]
  },
  {
   "cell_type": "code",
   "execution_count": 2,
   "metadata": {
    "colab": {
     "base_uri": "https://localhost:8080/",
     "height": 255
    },
    "colab_type": "code",
    "id": "aatW2Ewy3LCq",
    "outputId": "70b891d3-ef83-415d-fbfd-4d0ffabb5beb",
    "tags": []
   },
   "outputs": [
    {
     "name": "stdout",
     "output_type": "stream",
     "text": [
      "Type: <class 'numpy.ndarray'>\n",
      "Dimensions: 2\n",
      "Size: 115008\n",
      "Shape: (1797, 64)\n",
      "Type: float64\n",
      "Item size: 8\n",
      "\n",
      "Type: <class 'numpy.ndarray'>\n",
      "Dimensions: 1\n",
      "Size: 1797\n",
      "Shape: (1797,)\n",
      "Type: int32\n",
      "Item size: 4\n",
      "\n"
     ]
    }
   ],
   "source": [
    "digits, target = load_digits(return_X_y=True)\n",
    "\n",
    "def describe_ndarray(ndarr):\n",
    "  print(f'Type: {type(ndarr)}')\n",
    "  print(f'Dimensions: {ndarr.ndim}')\n",
    "  print(f'Size: {ndarr.size}')\n",
    "  print(f'Shape: {ndarr.shape}')\n",
    "  print(f'Type: {ndarr.dtype.name}')\n",
    "  print(f'Item size: {ndarr.itemsize}')\n",
    "  print()\n",
    "\n",
    "describe_ndarray(digits)\n",
    "describe_ndarray(target)"
   ]
  },
  {
   "cell_type": "markdown",
   "metadata": {
    "colab_type": "text",
    "id": "A3S51ChC3LCs"
   },
   "source": [
    "Here we can see that we have two ndarrays, the first contains 1797 arrays of 64 (flattened 8x8 image) and the second has 1797 numbers, which correspond to the label of the digit. Lets try to visualize this."
   ]
  },
  {
   "cell_type": "code",
   "execution_count": 3,
   "metadata": {
    "colab": {
     "base_uri": "https://localhost:8080/",
     "height": 306
    },
    "colab_type": "code",
    "id": "ikFt7V0_3LCt",
    "outputId": "3897bba4-d8d8-4fc8-c166-ca1f9401267d"
   },
   "outputs": [
    {
     "name": "stdout",
     "output_type": "stream",
     "text": [
      "[[ 0.  0.  5. 13.  9.  1.  0.  0.  0.  0. 13. 15. 10. 15.  5.  0.  0.  3.\n",
      "  15.  2.  0. 11.  8.  0.  0.  4. 12.  0.  0.  8.  8.  0.  0.  5.  8.  0.\n",
      "   0.  9.  8.  0.  0.  4. 11.  0.  1. 12.  7.  0.  0.  2. 14.  5. 10. 12.\n",
      "   0.  0.  0.  0.  6. 13. 10.  0.  0.  0.]\n",
      " [ 0.  0.  0. 12. 13.  5.  0.  0.  0.  0.  0. 11. 16.  9.  0.  0.  0.  0.\n",
      "   3. 15. 16.  6.  0.  0.  0.  7. 15. 16. 16.  2.  0.  0.  0.  0.  1. 16.\n",
      "  16.  3.  0.  0.  0.  0.  1. 16. 16.  6.  0.  0.  0.  0.  1. 16. 16.  6.\n",
      "   0.  0.  0.  0.  0. 11. 16. 10.  0.  0.]\n",
      " [ 0.  0.  0.  4. 15. 12.  0.  0.  0.  0.  3. 16. 15. 14.  0.  0.  0.  0.\n",
      "   8. 13.  8. 16.  0.  0.  0.  0.  1.  6. 15. 11.  0.  0.  0.  1.  8. 13.\n",
      "  15.  1.  0.  0.  0.  9. 16. 16.  5.  0.  0.  0.  0.  3. 13. 16. 16. 11.\n",
      "   5.  0.  0.  0.  0.  3. 11. 16.  9.  0.]\n",
      " [ 0.  0.  7. 15. 13.  1.  0.  0.  0.  8. 13.  6. 15.  4.  0.  0.  0.  2.\n",
      "   1. 13. 13.  0.  0.  0.  0.  0.  2. 15. 11.  1.  0.  0.  0.  0.  0.  1.\n",
      "  12. 12.  1.  0.  0.  0.  0.  0.  1. 10.  8.  0.  0.  0.  8.  4.  5. 14.\n",
      "   9.  0.  0.  0.  7. 13. 13.  9.  0.  0.]]\n",
      "[0 1 2 3]\n"
     ]
    }
   ],
   "source": [
    "print(digits[:4,])\n",
    "print(target[:4,])"
   ]
  },
  {
   "cell_type": "markdown",
   "metadata": {
    "colab_type": "text",
    "id": "iq8AGXlJ3LCv"
   },
   "source": [
    "These are the first 3 digits, but it's difficult to see the image and verify if they match the labels, lets reshape the data and try again."
   ]
  },
  {
   "cell_type": "code",
   "execution_count": 4,
   "metadata": {
    "colab": {
     "base_uri": "https://localhost:8080/",
     "height": 612
    },
    "colab_type": "code",
    "id": "U83EniPf3LCv",
    "outputId": "c7d0d930-7211-4064-c709-71b270928b74"
   },
   "outputs": [
    {
     "name": "stdout",
     "output_type": "stream",
     "text": [
      "[[[ 0.  0.  5. 13.  9.  1.  0.  0.]\n",
      "  [ 0.  0. 13. 15. 10. 15.  5.  0.]\n",
      "  [ 0.  3. 15.  2.  0. 11.  8.  0.]\n",
      "  [ 0.  4. 12.  0.  0.  8.  8.  0.]\n",
      "  [ 0.  5.  8.  0.  0.  9.  8.  0.]\n",
      "  [ 0.  4. 11.  0.  1. 12.  7.  0.]\n",
      "  [ 0.  2. 14.  5. 10. 12.  0.  0.]\n",
      "  [ 0.  0.  6. 13. 10.  0.  0.  0.]]\n",
      "\n",
      " [[ 0.  0.  0. 12. 13.  5.  0.  0.]\n",
      "  [ 0.  0.  0. 11. 16.  9.  0.  0.]\n",
      "  [ 0.  0.  3. 15. 16.  6.  0.  0.]\n",
      "  [ 0.  7. 15. 16. 16.  2.  0.  0.]\n",
      "  [ 0.  0.  1. 16. 16.  3.  0.  0.]\n",
      "  [ 0.  0.  1. 16. 16.  6.  0.  0.]\n",
      "  [ 0.  0.  1. 16. 16.  6.  0.  0.]\n",
      "  [ 0.  0.  0. 11. 16. 10.  0.  0.]]\n",
      "\n",
      " [[ 0.  0.  0.  4. 15. 12.  0.  0.]\n",
      "  [ 0.  0.  3. 16. 15. 14.  0.  0.]\n",
      "  [ 0.  0.  8. 13.  8. 16.  0.  0.]\n",
      "  [ 0.  0.  1.  6. 15. 11.  0.  0.]\n",
      "  [ 0.  1.  8. 13. 15.  1.  0.  0.]\n",
      "  [ 0.  9. 16. 16.  5.  0.  0.  0.]\n",
      "  [ 0.  3. 13. 16. 16. 11.  5.  0.]\n",
      "  [ 0.  0.  0.  3. 11. 16.  9.  0.]]\n",
      "\n",
      " [[ 0.  0.  7. 15. 13.  1.  0.  0.]\n",
      "  [ 0.  8. 13.  6. 15.  4.  0.  0.]\n",
      "  [ 0.  2.  1. 13. 13.  0.  0.  0.]\n",
      "  [ 0.  0.  2. 15. 11.  1.  0.  0.]\n",
      "  [ 0.  0.  0.  1. 12. 12.  1.  0.]\n",
      "  [ 0.  0.  0.  0.  1. 10.  8.  0.]\n",
      "  [ 0.  0.  8.  4.  5. 14.  9.  0.]\n",
      "  [ 0.  0.  7. 13. 13.  9.  0.  0.]]]\n"
     ]
    }
   ],
   "source": [
    "digits_square = digits.reshape(-1, 8, 8)\n",
    "\n",
    "print(digits_square[:4,])"
   ]
  },
  {
   "cell_type": "markdown",
   "metadata": {
    "colab_type": "text",
    "id": "HMtBLCPE3LCx"
   },
   "source": [
    "Now that we have squared the digits, it's easier to see if they're numbers, but we can do something better with matplotlib."
   ]
  },
  {
   "cell_type": "code",
   "execution_count": 5,
   "metadata": {
    "colab": {},
    "colab_type": "code",
    "id": "R7QalfQ03LCy"
   },
   "outputs": [],
   "source": [
    "import matplotlib.pyplot as plt"
   ]
  },
  {
   "cell_type": "code",
   "execution_count": 6,
   "metadata": {
    "colab": {
     "base_uri": "https://localhost:8080/",
     "height": 282
    },
    "colab_type": "code",
    "id": "4KYDY9ec3LCz",
    "outputId": "65fe462d-ab59-408f-cfc8-3a0789a6cb14"
   },
   "outputs": [
    {
     "data": {
      "text/plain": [
       "<Figure size 432x288 with 0 Axes>"
      ]
     },
     "metadata": {},
     "output_type": "display_data"
    },
    {
     "data": {
      "image/png": "[encoded data removed]",
      "text/plain": [
       "<Figure size 432x288 with 4 Axes>"
      ]
     },
     "metadata": {
      "needs_background": "light"
     },
     "output_type": "display_data"
    }
   ],
   "source": [
    "plt.gray()\n",
    "\n",
    "plt.figure()\n",
    "\n",
    "plt.subplot(2,2,1)\n",
    "plt.imshow(digits_square[0])\n",
    "\n",
    "plt.subplot(2,2,2)\n",
    "plt.imshow(digits_square[1])\n",
    "\n",
    "plt.subplot(2,2,3)\n",
    "plt.imshow(digits_square[2])\n",
    "\n",
    "plt.subplot(2,2,4)\n",
    "plt.imshow(digits_square[3])\n",
    "\n",
    "plt.show()\n"
   ]
  },
  {
   "cell_type": "markdown",
   "metadata": {
    "colab_type": "text",
    "id": "uCK3VV4n3LC2"
   },
   "source": [
    "Now we can easily see that these are in fact numbers and they correspond to the digits in `target`."
   ]
  },
  {
   "cell_type": "markdown",
   "metadata": {
    "colab_type": "text",
    "id": "TD3Tt53J3LC2"
   },
   "source": [
    "Now, imagine a new person writes a new digit that is not in the dataset and we want to automatically predict what this digit is by looking just at the image. For this purpose, we must develop an algorithm that can tell us this.\n",
    "\n",
    "Now, suppose we've written the algorithm, how do we test it without having the new images? Well, we can use the existing labels in order to know what the right answer is and then compare that to our algorithms answer. We will repeat the process for a random 30% of all digits and calculate the overall accuracy of our algorithm by: (correct answers)/(total).\n",
    "\n",
    "In short, you need to create a function that takes N number of digits and outputs an ndarray of (N,) with the predictions for each digit, all of these will be compared against the real values.\n",
    "\n",
    "In order to make this easier, we will only be comparing two classess of digits and classifing wether a digit is one of the two, you can choose which two digits to classify."
   ]
  },
  {
   "cell_type": "code",
   "execution_count": 7,
   "metadata": {
    "colab": {},
    "colab_type": "code",
    "id": "u5SrwqB_3LC3"
   },
   "outputs": [],
   "source": [
    "import random\n",
    "import numpy as np"
   ]
  },
  {
   "cell_type": "code",
   "execution_count": 21,
   "metadata": {
    "colab": {
     "base_uri": "https://localhost:8080/",
     "height": 452
    },
    "colab_type": "code",
    "id": "1OR78kG33LC5",
    "outputId": "0c71c57a-619a-4994-be78-12bb4ecd4620"
   },
   "outputs": [
    {
     "name": "stdout",
     "output_type": "stream",
     "text": [
      "[[ 0.  0.  6. ...  4.  0.  0.]\n",
      " [ 0.  0.  3. ... 15.  5.  0.]\n",
      " [ 0.  1.  8. ...  2.  0.  0.]\n",
      " ...\n",
      " [ 0.  0.  0. ... 13.  1.  0.]\n",
      " [ 0.  0.  6. ...  0.  0.  0.]\n",
      " [ 0.  0.  0. ... 10.  0.  0.]]\n",
      "[1 3 3 5 6 2 5 5 3 3 3 6 2 9 9 7 8 9 6 1 1 9 0 0 0 8 9 4 9 8 8 0 4 3 8 2 8\n",
      " 5 0 0 9 4 0 1 4 3 4 8 4 7 7 1 4 1 5 6 0 1 7 7 0 2 1 0 8 5 6 9 1 7 5 1 4 8\n",
      " 2 3 0 9 1 9 4 2 3 4 7 2 2 6 1 3 6 2 6 1 4 5 9 7 3 5 4 0 9 6 0 7 3 4 4 2 4\n",
      " 6 4 5 6 2 5 3 6 6 3 1 1 0 3 5 6 2 4 4 7 2 1 5 2 2 7 6 9 7 7 3 6 5 1 5 9 5\n",
      " 3 0 8 0 6 5 1 2 9 7 6 7 3 3 8 6 7 5 6 7 6 5 0 1 6 6 4 4 2 9 2 7 8 3 9 1 5\n",
      " 9 0 3 3 5 2 7 9 1 6 4 6 9 9 1 7 6 3 8 5 9 4 0 7 3 8 3 1 9 0 4 1 3 2 0 3 0\n",
      " 8 9 5 2 8 8 3 0 2 5 9 1 4 8 0 2 4 0 7 8 0 7 6 4 1 7 2 1 8 0 8 6 7 9 0 9 2\n",
      " 0 1 9 5 1 2 4 5 1 5 0 4 7 0 2 7 2 6 7 5 6 3 0 9 5 6 5 5 1 6 2 9 1 8 4 0 2\n",
      " 1 4 6 3 6 4 5 4 3 9 4 9 7 6 1 8 7 8 2 5 9 4 7 2 4 1 3 0 8 8 2 6 4 6 6 3 3\n",
      " 2 8 2 3 5 1 0 4 1 0 7 7 7 2 1 0 3 5 4 4 0 9 1 1 1 4 4 3 0 6 1 7 8 6 3 7 0\n",
      " 1 1 1 8 1 1 3 0 2 3 6 1 5 9 0 2 7 3 2 4 2 1 6 3 7 6 8 9 9 6 0 9 9 3 4 4 8\n",
      " 8 4 6 1 8 6 1 1 4 2 5 6 8 1 1 8 3 6 6 7 9 6 2 7 2 3 9 0 0 4 6 9 4 2 2 6 0\n",
      " 2 4 9 9 0 2 6 3 4 0 9 6 4 2 2 2 7 9 4 9 3 9 0 5 1 1 2 7 5 9 8 0 9 6 0 2 6\n",
      " 9 5 5 2 0 3 0 5 9 7 1 9 3 6 5 5 2 3 8 5 5 2 3 4 8 4 7 9 9 7 0 1 6 1 0 1 1\n",
      " 8 8 6 4 4 2 7 4 0 2 3 6 0 0 9 7 4 2 0 7 4]\n"
     ]
    },
    {
     "data": {
      "text/plain": [
       "<matplotlib.image.AxesImage at 0x236fe9f4088>"
      ]
     },
     "execution_count": 21,
     "metadata": {},
     "output_type": "execute_result"
    },
    {
     "data": {
      "image/png": "[encoded data removed]",
      "text/plain": [
       "<Figure size 432x288 with 1 Axes>"
      ]
     },
     "metadata": {
      "needs_background": "light"
     },
     "output_type": "display_data"
    }
   ],
   "source": [
    "def generate_random_indices(percentage, class1, class2):\n",
    "    indices_of_class1 = np.nonzero(target == class1)[0]\n",
    "    indices_of_class2 = np.nonzero(target == class2)[0]\n",
    "\n",
    "    min_length = min(len(indices_of_class1), len(indices_of_class2)) - 1\n",
    "\n",
    "    indices_of_class = np.concatenate((indices_of_class1[:min_length], indices_of_class2[:min_length]))\n",
    "\n",
    "    return random.sample(indices_of_class.tolist(),k=int(len(indices_of_class)*percentage))\n",
    "\n",
    "def generate_random_indices_all(percentage):\n",
    "\n",
    "    indices_of_class = [i for i in range(len(target))]\n",
    "\n",
    "    return random.sample(indices_of_class,k=int(len(indices_of_class)*percentage))\n",
    "\n",
    "def get_random_data(class1, class2):\n",
    "    indices = generate_random_indices(0.3, class1, class2)\n",
    "    return digits[indices,:], target[indices]\n",
    "\n",
    "def get_random_data_all():\n",
    "    indices = generate_random_indices_all(0.3)\n",
    "    return digits[indices,:], target[indices]\n",
    "\n",
    "digits_sample, target_sample = get_random_data(1,7)\n",
    "digits_sample, target_sample = get_random_data_all()\n",
    "print(digits_sample)\n",
    "print(target_sample)\n",
    "plt.imshow(digits_sample.reshape((-1, 8, 8))[0])\n"
   ]
  },
  {
   "cell_type": "code",
   "execution_count": 75,
   "metadata": {
    "colab": {
     "base_uri": "https://localhost:8080/",
     "height": 302
    },
    "colab_type": "code",
    "id": "LgedUjCa3Nsu",
    "outputId": "ab528169-d041-4a0d-d56c-3ab2c774ae89"
   },
   "outputs": [
    {
     "data": {
      "text/plain": [
       "<Figure size 432x288 with 0 Axes>"
      ]
     },
     "metadata": {},
     "output_type": "display_data"
    },
    {
     "data": {
      "text/plain": [
       "<Figure size 432x288 with 0 Axes>"
      ]
     },
     "metadata": {},
     "output_type": "display_data"
    },
    {
     "name": "stdout",
     "output_type": "stream",
     "text": [
      "Type: <class 'numpy.ndarray'>\n",
      "Dimensions: 3\n",
      "Size: 2560\n",
      "Shape: (10, 4, 64)\n",
      "Type: float64\n",
      "Item size: 8\n",
      "\n"
     ]
    }
   ],
   "source": [
    "plt.gray()\n",
    "\n",
    "plt.figure()\n",
    "\n",
    "indices_samples = np.array([[0,10,20,78],\n",
    "                            [1,11,21,80],\n",
    "                            [2,12,22,77],\n",
    "                            [3,13,23,83],\n",
    "                            [4,14,24,87],\n",
    "#                             [4,14,24,87,41],\n",
    "                            [5,15,25,46],\n",
    "                            [6,16,26,82],\n",
    "                            [7,17,27,86],\n",
    "                            [8,18,28,38],\n",
    "                            [9,19,29,37],\n",
    "#                             [9,19,29,37,69]\n",
    "                           ])\n",
    "\n",
    "samples = np.array([[digits[j] for j in indices_samples[i]] for i in range(10)])\n",
    "\n",
    "# samples = np.array([indices_samples[i,0] for i in range(10)])\n",
    "\n",
    "# num = 100\n",
    "# num_row =num//10\n",
    "# num_col = 10\n",
    "# # plot images\n",
    "# fig, axes = plt.subplots(num_row, num_col, figsize=(1.5*num_col,2*num_row))\n",
    "# for i in range(num):\n",
    "#     ax = axes[i//num_col, i%num_col]\n",
    "#     ax.imshow(digits[i].reshape((8,8)), cmap='gray')\n",
    "#     ax.set_title('L:{}, idx:{}'.format(target[i], i))\n",
    "# plt.tight_layout()\n",
    "# plt.show()\n",
    "# print(samples)\n",
    "\n",
    "plt.show()\n",
    "# print(f'Shape: {indices_samples.shape}')\n",
    "describe_ndarray(samples)\n"
   ]
  },
  {
   "cell_type": "markdown",
   "metadata": {
    "colab_type": "text",
    "id": "-mAp_YQw3LC7"
   },
   "source": [
    "Here we have applied some functions to extract a random 30% of the digits along with their target values, these digits will be the input to your algorithm, which you should complete below."
   ]
  },
  {
   "cell_type": "code",
   "execution_count": 73,
   "metadata": {
    "colab": {},
    "colab_type": "code",
    "id": "6sMG6KWW3LC7"
   },
   "outputs": [],
   "source": [
    "def parecido_corr(v1, v2): \n",
    "  return abs(np.corrcoef(v1,v2)[0,1])\n",
    "\n",
    "def predict_digit_max(dig):\n",
    "  max_coef = 0\n",
    "  digit = 0\n",
    "  for comp in range(10):\n",
    "    for i in range(3):\n",
    "      curr_coef = parecido_corr(dig, samples[comp,i])\n",
    "      if curr_coef > max_coef:\n",
    "        digit = comp\n",
    "        max_coef = curr_coef\n",
    "  return digit\n",
    "\n",
    "def predict_digit_avg(dig):\n",
    "  max_coef = 0\n",
    "  digit = 0\n",
    "  for comp in range(10):\n",
    "    curr_coef = 0\n",
    "    for i in range(4):\n",
    "      curr_coef = curr_coef+parecido_corr(dig, samples[comp,i])\n",
    "    if curr_coef > max_coef:\n",
    "        digit = comp\n",
    "    max_coef = curr_coef\n",
    "  return digit\n",
    "\n",
    "def predict(digs): \n",
    "    prediction = [predict_digit_max(dig) for dig in digs]\n",
    "    return prediction"
   ]
  },
  {
   "cell_type": "markdown",
   "metadata": {
    "colab_type": "text",
    "id": "AQV3sruW3LC9"
   },
   "source": [
    "We will now define the function that will calculate our accuracy."
   ]
  },
  {
   "cell_type": "code",
   "execution_count": 44,
   "metadata": {
    "colab": {},
    "colab_type": "code",
    "id": "j1sC4_QJ3LC9"
   },
   "outputs": [],
   "source": [
    "def accuracy(predictions):\n",
    "    return np.count_nonzero(target_sample == predictions)/len(target_sample)"
   ]
  },
  {
   "cell_type": "markdown",
   "metadata": {
    "colab_type": "text",
    "id": "fJRoAmgV3LC_"
   },
   "source": [
    "This function compares which predictions are equal to the real value and divides by the total in the sample. The following code will test your accuracy."
   ]
  },
  {
   "cell_type": "code",
   "execution_count": 99,
   "metadata": {
    "colab": {
     "base_uri": "https://localhost:8080/",
     "height": 34
    },
    "colab_type": "code",
    "id": "l7zpkiU13LC_",
    "outputId": "7a694af0-c9db-408f-c232-24c98020b93b"
   },
   "outputs": [
    {
     "data": {
      "image/png": "[encoded data removed]",
      "text/plain": [
       "<Figure size 432x288 with 1 Axes>"
      ]
     },
     "metadata": {
      "needs_background": "light"
     },
     "output_type": "display_data"
    },
    {
     "name": "stdout",
     "output_type": "stream",
     "text": [
      "min = 0.764378478664193\n",
      "avg = 0.8089239332096474\n",
      "max = 0.8385899814471243\n"
     ]
    }
   ],
   "source": [
    "data = []\n",
    "\n",
    "for _ in range(100):\n",
    "    digits_sample, target_sample = get_random_data_all()\n",
    "    acc = accuracy(predict(digits_sample))\n",
    "    data.append(acc)\n",
    "plt.hist(data)\n",
    "plt.show()\n",
    "print(f\"min = {min(data)}\")\n",
    "print(f\"avg = {np.mean(data)}\")\n",
    "print(f\"max = {max(data)}\")"
   ]
  },
  {
   "cell_type": "code",
   "execution_count": 13,
   "metadata": {
    "colab": {
     "base_uri": "https://localhost:8080/",
     "height": 54
    },
    "colab_type": "code",
    "id": "gqrPw5Ic3LDB",
    "outputId": "a383d6d1-0bf6-4e5d-b2fb-81b0b264879f"
   },
   "outputs": [
    {
     "name": "stdout",
     "output_type": "stream",
     "text": [
      "[6, 8, 7, 1, 3, 0, 0, 4, 1, 8, 4, 1, 7, 2, 6, 1, 3, 5, 7, 5, 3, 0, 3, 1, 5, 6, 7, 4, 8, 7, 9, 1, 4, 7, 2, 4, 0, 3, 1, 4, 9, 1, 0, 3, 4, 2, 0, 6, 3, 7, 5, 9, 8, 2, 3, 9, 5, 5, 6, 3, 7, 8, 3, 8, 2, 6, 3, 5, 2, 4, 8, 9, 6, 7, 9, 1, 4, 3, 3, 5, 9, 0, 2, 5, 1, 2, 5, 5, 9, 5, 3, 7, 0, 2, 2, 0, 1, 2, 6, 0, 5, 8, 2, 6, 7, 1, 8, 0, 4, 1, 8, 0, 7, 7, 9, 7, 4, 5, 2, 7, 2, 8, 0, 1, 4, 1, 3, 1, 5, 4, 6, 0, 8, 3, 8, 7, 3, 5, 3, 6, 8, 2, 9, 0, 2, 7, 3, 5, 7, 3, 3, 5, 2, 9, 0, 3, 6, 1, 3, 2, 0, 0, 6, 7, 1, 7, 3, 8, 7, 8, 2, 8, 5, 0, 4, 7, 8, 0, 6, 0, 1, 5, 7, 6, 4, 3, 0, 1, 3, 4, 6, 6, 8, 7, 3, 2, 5, 3, 1, 2, 3, 8, 0, 9, 2, 5, 3, 2, 8, 1, 7, 2, 2, 3, 2, 3, 7, 7, 6, 3, 7, 9, 8, 9, 9, 1, 4, 1, 5, 3, 3, 6, 8, 5, 2, 1, 2, 1, 6, 4, 6, 5, 6, 0, 5, 7, 5, 5, 3, 3, 0, 4, 0, 4, 5, 4, 0, 8, 4, 5, 5, 6, 5, 8, 6, 6, 3, 1, 2, 1, 2, 1, 0, 2, 5, 0, 5, 3, 7, 8, 8, 7, 7, 3, 6, 2, 7, 7, 2, 8, 6, 0, 3, 4, 0, 5, 5, 0, 3, 7, 8, 2, 9, 5, 6, 1, 4, 6, 2, 6, 7, 3, 8, 2, 7, 0, 7, 1, 6, 8, 4, 5, 5, 2, 3, 4, 0, 4, 2, 2, 6, 2, 6, 1, 1, 6, 4, 8, 2, 3, 3, 9, 6, 3, 7, 6, 1, 8, 6, 8, 2, 8, 4, 3, 3, 7, 5, 6, 1, 5, 2, 4, 6, 0, 7, 6, 1, 0, 0, 9, 6, 3, 9, 5, 0, 5, 6, 8, 7, 0, 5, 2, 4, 3, 9, 3, 0, 6, 7, 1, 5, 2, 3, 7, 1, 6, 5, 7, 6, 1, 7, 5, 6, 7, 1, 9, 0, 6, 9, 4, 3, 7, 0, 1, 2, 0, 0, 0, 2, 9, 7, 2, 6, 1, 6, 4, 3, 2, 4, 0, 2, 8, 3, 0, 4, 0, 0, 7, 3, 1, 5, 7, 2, 6, 5, 9, 7, 7, 3, 9, 7, 8, 9, 3, 7, 0, 8, 7, 2, 1, 3, 5, 3, 0, 3, 7, 6, 2, 7, 5, 0, 6, 0, 2, 7, 7, 1, 9, 2, 4, 2, 4, 7, 6, 2, 8, 3, 2, 6, 4, 3, 2, 5, 8, 7, 8, 8, 2, 8, 1, 7, 5, 7, 5, 4, 5, 8, 5, 6, 4, 5, 6, 0, 5, 7, 0, 3, 5, 0, 5, 6, 1, 6, 4, 6, 2, 0, 6, 5, 1, 0, 4, 2, 5, 3, 0, 4, 8, 7]\n"
     ]
    }
   ],
   "source": [
    "print(predict(digits_sample))"
   ]
  },
  {
   "cell_type": "code",
   "execution_count": 14,
   "metadata": {
    "colab": {},
    "colab_type": "code",
    "id": "cH8uG7_DGbBK"
   },
   "outputs": [
    {
     "name": "stdout",
     "output_type": "stream",
     "text": [
      "[1 3 7 1 3 0 0 4 1 8 4 1 4 2 6 1 3 5 7 5 8 0 3 1 5 6 7 4 1 9 9 1 4 7 2 4 9\n",
      " 3 1 4 9 1 6 3 4 2 0 6 8 8 5 9 3 1 3 3 9 5 6 3 7 8 3 8 2 8 3 5 2 4 8 5 6 7\n",
      " 5 1 4 2 3 5 5 0 8 5 1 2 9 5 9 9 3 7 0 1 2 0 1 2 6 0 5 8 2 6 7 1 8 9 4 4 8\n",
      " 0 7 7 5 9 4 5 8 7 1 1 7 9 4 1 3 1 9 4 6 7 8 3 8 7 3 5 3 1 8 2 9 0 2 7 3 5\n",
      " 7 3 3 5 2 5 0 3 6 1 7 8 0 0 6 7 4 7 3 8 7 8 2 8 5 0 4 9 8 0 6 0 1 9 7 6 4\n",
      " 3 0 1 3 4 1 6 8 7 3 2 5 3 1 2 3 8 0 9 2 9 3 2 8 1 7 2 2 3 2 3 7 7 6 3 7 9\n",
      " 8 9 9 4 4 1 5 5 3 1 8 9 2 1 2 8 1 4 6 5 6 0 9 7 9 9 3 3 0 4 0 4 9 4 0 3 4\n",
      " 5 5 6 9 8 6 6 3 1 2 1 8 1 0 2 8 0 9 3 7 8 8 7 4 3 6 2 7 4 2 8 6 0 3 4 0 5\n",
      " 5 0 3 7 8 1 9 8 6 1 0 6 2 6 7 2 8 2 7 0 4 1 6 8 4 9 9 2 3 4 0 4 2 2 6 2 6\n",
      " 1 8 6 4 1 2 3 3 5 6 3 9 6 9 8 6 8 2 8 4 3 3 4 5 6 1 5 1 4 6 6 7 6 1 0 0 9\n",
      " 6 3 9 5 0 9 6 8 7 0 5 8 4 5 9 3 0 6 7 1 5 2 9 7 1 6 5 7 6 1 7 5 6 7 1 9 0\n",
      " 6 5 4 3 4 0 4 1 0 0 0 2 9 7 2 6 9 4 4 3 2 4 6 2 8 5 0 4 0 0 7 3 1 5 7 2 6\n",
      " 9 9 8 7 3 9 7 8 9 3 7 0 8 7 2 1 3 9 3 0 3 4 6 2 9 9 0 6 0 2 7 7 1 9 2 4 8\n",
      " 4 7 6 2 8 8 2 6 4 3 2 5 8 7 8 8 2 7 1 7 5 8 5 4 9 8 9 4 4 9 6 0 5 7 5 3 5\n",
      " 0 5 6 1 6 4 6 3 0 2 9 1 9 4 2 5 3 0 4 3 7]\n"
     ]
    }
   ],
   "source": [
    "print(target_sample)"
   ]
  },
  {
   "cell_type": "code",
   "execution_count": null,
   "metadata": {},
   "outputs": [],
   "source": []
  }
 ],
 "metadata": {
  "colab": {
   "collapsed_sections": [],
   "name": "mnist.ipynb",
   "provenance": []
  },
  "file_extension": ".py",
  "kernelspec": {
   "display_name": "Python 3",
   "language": "python",
   "name": "python3"
  },
  "language_info": {
   "codemirror_mode": {
    "name": "ipython",
    "version": 3
   },
   "file_extension": ".py",
   "mimetype": "text/x-python",
   "name": "python",
   "nbconvert_exporter": "python",
   "pygments_lexer": "ipython3",
   "version": "3.7.6"
  },
  "mimetype": "text/x-python",
  "name": "python",
  "npconvert_exporter": "python",
  "pygments_lexer": "ipython3",
  "version": 3
 },
 "nbformat": 4,
 "nbformat_minor": 1
}
